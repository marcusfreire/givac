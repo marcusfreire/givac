{
 "cells": [
  {
   "cell_type": "code",
   "execution_count": 1,
   "id": "c7a3029f",
   "metadata": {},
   "outputs": [
    {
     "name": "stdout",
     "output_type": "stream",
     "text": [
      "Tempo inicial da execucao: 2024-02-29 16:24:58.753864\n"
     ]
    }
   ],
   "source": [
    "import sys\n",
    "# import multiprocessing\n",
    "sys.path.append(\"../02_src/02_lib/\")\n",
    "from matplotlib import pyplot as plt\n",
    "\n",
    "from traffic_light import *"
   ]
  },
  {
   "cell_type": "markdown",
   "id": "a12c7459-75b0-46d4-ba00-bebdcf7cdc0b",
   "metadata": {},
   "source": [
    "### Primeira parte sem a parte gráfica, com a coleta de dados"
   ]
  },
  {
   "cell_type": "code",
   "execution_count": 2,
   "id": "29c5e585",
   "metadata": {},
   "outputs": [],
   "source": [
    "#Fatores Fixos\n",
    "STEP_TOTAL = 11500\n",
    "# [100,300]\n",
    "ADD_PLATOON_STEP = 300\n",
    "SEED = 58916456\n",
    "\n",
    "# Fator Vaiável\n",
    "# [5,10]\n",
    "NUM_VEH_PLATOON = 5\n",
    "# [40%,60%]\n",
    "ADD_PLATOON_PRO = 0.4\n",
    "#[50m,100m]\n",
    "BLOCKING_ZONE = 100\n",
    "\n",
    "sumo_cmd = ['sumo', \n",
    "            '--duration-log.statistics', \n",
    "            '-c', '../02_src/01_scenario/3_intelligent_intersection/set/twoWay6lanes.sumo.cfg']"
   ]
  },
  {
   "cell_type": "markdown",
   "id": "09e8f736-8100-4abc-b6d7-6648eecabeb0",
   "metadata": {},
   "source": [
    "# II"
   ]
  },
  {
   "cell_type": "code",
   "execution_count": 3,
   "id": "ed7d1f5b-f993-485b-89cf-d57500f9b4bc",
   "metadata": {},
   "outputs": [
    {
     "name": "stdout",
     "output_type": "stream",
     "text": [
      " Retrying in 1 seconds\n",
      "***Starting server on port 54477 ***\n",
      "Loading net-file from '../02_src/01_scenario/3_intelligent_intersection/set/twoWay6lanes.net.xml' ... done (3ms).\n",
      "Loading done.\n",
      "Simulation version 1.18.0 started with time: 0.00.\n",
      "Step #115.00 (0ms ?*RT. ?UPS, TraCI: 1ms, vehicles TOT 203 ACT 54 BUF 0)                  tep #45.00 (0ms ?*RT. ?UPS, TraCI: 0ms, vehicles TOT 78 ACT 58 BUF 0)                    ep #90.00 (0ms ?*RT. ?UPS, TraCI: 0ms, vehicles TOT 162 ACT 58 BUF 0)                   \n",
      "Simulation ended at time: 115.00\n",
      "Reason: TraCI requested termination.\n",
      "Performance: \n",
      " Duration: 6.98s\n",
      " TraCI-Duration: 5.81s\n",
      " Real time factor: 16.4875\n",
      " UPS: 87467.096774\n",
      "Vehicles: \n",
      " Inserted: 203\n",
      " Running: 54\n",
      " Waiting: 0\n",
      "Statistics (avg of 149):\n",
      " RouteLength: 893.35\n",
      " Speed: 25.75\n",
      " Duration: 34.77\n",
      " WaitingTime: 0.00\n",
      " TimeLoss: 1.02\n",
      " DepartDelay: 0.00\n",
      "\n"
     ]
    }
   ],
   "source": [
    "intelligent_intersection = Intelligent_Intersection_MOD(seed = SEED,\n",
    "                                                        ADD_PLATOON_STEP = ADD_PLATOON_STEP,\n",
    "                                                       ADD_PLATOON_PRO=ADD_PLATOON_PRO)\n",
    "intelligent_intersection.start(sumo_cmd,STEP_TOTAL)"
   ]
  },
  {
   "cell_type": "code",
   "execution_count": 4,
   "id": "14e42acd-6415-434c-acff-693c6e1ae8a1",
   "metadata": {},
   "outputs": [
    {
     "data": {
      "text/html": [
       "<div>\n",
       "<style scoped>\n",
       "    .dataframe tbody tr th:only-of-type {\n",
       "        vertical-align: middle;\n",
       "    }\n",
       "\n",
       "    .dataframe tbody tr th {\n",
       "        vertical-align: top;\n",
       "    }\n",
       "\n",
       "    .dataframe thead th {\n",
       "        text-align: right;\n",
       "    }\n",
       "</style>\n",
       "<table border=\"1\" class=\"dataframe\">\n",
       "  <thead>\n",
       "    <tr style=\"text-align: right;\">\n",
       "      <th></th>\n",
       "      <th>step</th>\n",
       "      <th>key</th>\n",
       "      <th>route</th>\n",
       "      <th>odometry</th>\n",
       "      <th>speed</th>\n",
       "      <th>timeLoss</th>\n",
       "      <th>current_time</th>\n",
       "      <th>desired_speed</th>\n",
       "      <th>distance_to_stop_line</th>\n",
       "      <th>max_leaving_time</th>\n",
       "      <th>leaving_time</th>\n",
       "      <th>duration</th>\n",
       "    </tr>\n",
       "  </thead>\n",
       "  <tbody>\n",
       "    <tr>\n",
       "      <th>0</th>\n",
       "      <td>1</td>\n",
       "      <td>v.0.0.0</td>\n",
       "      <td>0</td>\n",
       "      <td>0.0</td>\n",
       "      <td>5.0</td>\n",
       "      <td>0.0</td>\n",
       "      <td>0.02</td>\n",
       "      <td>NaN</td>\n",
       "      <td>NaN</td>\n",
       "      <td>NaN</td>\n",
       "      <td>NaN</td>\n",
       "      <td>0.0</td>\n",
       "    </tr>\n",
       "    <tr>\n",
       "      <th>1</th>\n",
       "      <td>1</td>\n",
       "      <td>v.0.4.0</td>\n",
       "      <td>4</td>\n",
       "      <td>0.0</td>\n",
       "      <td>5.0</td>\n",
       "      <td>0.0</td>\n",
       "      <td>0.02</td>\n",
       "      <td>NaN</td>\n",
       "      <td>NaN</td>\n",
       "      <td>NaN</td>\n",
       "      <td>NaN</td>\n",
       "      <td>0.0</td>\n",
       "    </tr>\n",
       "    <tr>\n",
       "      <th>2</th>\n",
       "      <td>1</td>\n",
       "      <td>v.0.6.0</td>\n",
       "      <td>6</td>\n",
       "      <td>0.0</td>\n",
       "      <td>5.0</td>\n",
       "      <td>0.0</td>\n",
       "      <td>0.02</td>\n",
       "      <td>NaN</td>\n",
       "      <td>NaN</td>\n",
       "      <td>NaN</td>\n",
       "      <td>NaN</td>\n",
       "      <td>0.0</td>\n",
       "    </tr>\n",
       "    <tr>\n",
       "      <th>3</th>\n",
       "      <td>1</td>\n",
       "      <td>v.0.8.0</td>\n",
       "      <td>8</td>\n",
       "      <td>0.0</td>\n",
       "      <td>5.0</td>\n",
       "      <td>0.0</td>\n",
       "      <td>0.02</td>\n",
       "      <td>NaN</td>\n",
       "      <td>NaN</td>\n",
       "      <td>NaN</td>\n",
       "      <td>NaN</td>\n",
       "      <td>0.0</td>\n",
       "    </tr>\n",
       "    <tr>\n",
       "      <th>4</th>\n",
       "      <td>1</td>\n",
       "      <td>v.0.11.0</td>\n",
       "      <td>11</td>\n",
       "      <td>0.0</td>\n",
       "      <td>5.0</td>\n",
       "      <td>0.0</td>\n",
       "      <td>0.02</td>\n",
       "      <td>NaN</td>\n",
       "      <td>NaN</td>\n",
       "      <td>NaN</td>\n",
       "      <td>NaN</td>\n",
       "      <td>0.0</td>\n",
       "    </tr>\n",
       "  </tbody>\n",
       "</table>\n",
       "</div>"
      ],
      "text/plain": [
       "   step       key  route  odometry  speed  timeLoss  current_time  \\\n",
       "0     1   v.0.0.0      0       0.0    5.0       0.0          0.02   \n",
       "1     1   v.0.4.0      4       0.0    5.0       0.0          0.02   \n",
       "2     1   v.0.6.0      6       0.0    5.0       0.0          0.02   \n",
       "3     1   v.0.8.0      8       0.0    5.0       0.0          0.02   \n",
       "4     1  v.0.11.0     11       0.0    5.0       0.0          0.02   \n",
       "\n",
       "   desired_speed  distance_to_stop_line  max_leaving_time  leaving_time  \\\n",
       "0            NaN                    NaN               NaN           NaN   \n",
       "1            NaN                    NaN               NaN           NaN   \n",
       "2            NaN                    NaN               NaN           NaN   \n",
       "3            NaN                    NaN               NaN           NaN   \n",
       "4            NaN                    NaN               NaN           NaN   \n",
       "\n",
       "   duration  \n",
       "0       0.0  \n",
       "1       0.0  \n",
       "2       0.0  \n",
       "3       0.0  \n",
       "4       0.0  "
      ]
     },
     "execution_count": 4,
     "metadata": {},
     "output_type": "execute_result"
    }
   ],
   "source": [
    "df = intelligent_intersection.veh_data.merge_veh_data()\n",
    "df.head()"
   ]
  },
  {
   "cell_type": "code",
   "execution_count": 5,
   "id": "d6f6e771-9e0f-4f7c-b6f2-2085f6b190ba",
   "metadata": {},
   "outputs": [],
   "source": [
    "# Coleta de todos os veículos que ja ultrapassaram o semáforo\n",
    "lista_veiculos_apos_semaforo = list(set(df.groupby(['key'])['key'].count().index) - set(intelligent_intersection.topology.keys()))\n",
    "\n",
    "to_plot = df.query(\"key in \"+str(lista_veiculos_apos_semaforo))"
   ]
  },
  {
   "cell_type": "markdown",
   "id": "8c2664b1-7700-4f19-80a7-7a7d6a8b1732",
   "metadata": {},
   "source": [
    "### tempo_medio_viagem"
   ]
  },
  {
   "cell_type": "code",
   "execution_count": 6,
   "id": "891c3636-c539-41d8-a0fb-f3689326de26",
   "metadata": {},
   "outputs": [
    {
     "name": "stdout",
     "output_type": "stream",
     "text": [
      "DURATION \t MAX [37.6]b \t-\tMIN [30.5]\n"
     ]
    },
    {
     "data": {
      "image/png": "[encoded data removed]",
      "text/plain": [
       "<Figure size 640x480 with 1 Axes>"
      ]
     },
     "metadata": {},
     "output_type": "display_data"
    }
   ],
   "source": [
    "duration = to_plot.groupby(['key'])[['duration']].last()\n",
    "print(\"DURATION \\t MAX {}b \\t-\\tMIN {}\".format(duration.max().values,duration.min().values))\n",
    "ax = to_plot.groupby(['key'])[['duration']].last().boxplot()\n",
    "plt.show()"
   ]
  },
  {
   "cell_type": "code",
   "execution_count": 7,
   "id": "f7bac325-e3d5-4d42-8d64-5a4bb63b9b20",
   "metadata": {},
   "outputs": [
    {
     "data": {
      "text/plain": [
       "32.33841059602648"
      ]
     },
     "execution_count": 7,
     "metadata": {},
     "output_type": "execute_result"
    }
   ],
   "source": [
    "duration.mean()[0]"
   ]
  },
  {
   "cell_type": "markdown",
   "id": "46aaee06-3d22-4959-b365-b1c11c5fd585",
   "metadata": {},
   "source": [
    "### total_veh_inseridos"
   ]
  },
  {
   "cell_type": "code",
   "execution_count": 8,
   "id": "5ee2ae98-5951-49f0-b5c0-e98d523f041e",
   "metadata": {},
   "outputs": [
    {
     "data": {
      "text/plain": [
       "151"
      ]
     },
     "execution_count": 8,
     "metadata": {},
     "output_type": "execute_result"
    }
   ],
   "source": [
    "total_veh_inseridos = len(duration)\n",
    "total_veh_inseridos"
   ]
  },
  {
   "cell_type": "markdown",
   "id": "3604621f-035f-4534-aea4-7dd43b101d1a",
   "metadata": {},
   "source": [
    "### qtd_veiculos_finalizam_execucao"
   ]
  },
  {
   "cell_type": "code",
   "execution_count": 9,
   "id": "7b7f4eca-1da9-48e8-87bf-f84cc17ba09f",
   "metadata": {},
   "outputs": [
    {
     "data": {
      "text/plain": [
       "99"
      ]
     },
     "execution_count": 9,
     "metadata": {},
     "output_type": "execute_result"
    }
   ],
   "source": [
    "total_veh_inseridos - len(intelligent_intersection.topology.keys())"
   ]
  },
  {
   "cell_type": "markdown",
   "id": "aba444b3-94c0-4c8b-ade3-523b6fd24501",
   "metadata": {},
   "source": [
    "### qtd_colisoes"
   ]
  },
  {
   "cell_type": "code",
   "execution_count": 10,
   "id": "069bc261-1ff7-4419-b972-e939314563fd",
   "metadata": {},
   "outputs": [
    {
     "data": {
      "text/plain": [
       "0"
      ]
     },
     "execution_count": 10,
     "metadata": {},
     "output_type": "execute_result"
    }
   ],
   "source": [
    "len(pd.DataFrame(intelligent_intersection.dic_colisoes))"
   ]
  },
  {
   "cell_type": "markdown",
   "id": "5c31cbe0-72ad-4a39-b52b-e5ccc00ae1c3",
   "metadata": {},
   "source": [
    "# Com PELOTÕES"
   ]
  },
  {
   "cell_type": "code",
   "execution_count": 11,
   "id": "0a52a871",
   "metadata": {},
   "outputs": [
    {
     "name": "stdout",
     "output_type": "stream",
     "text": [
      " Retrying in 1 seconds\n",
      "***Starting server on port 42435 ***\n",
      "Loading net-file from '../02_src/01_scenario/3_intelligent_intersection/set/twoWay6lanes.net.xml' ... done (3ms).\n",
      "Loading done.\n",
      "Simulation version 1.18.0 started with time: 0.00.\n",
      "Step #89.00 (0ms ?*RT. ?UPS, TraCI: 0ms, vehicles TOT 162 ACT 53 BUF 0)                   tep #45.00 (1ms ~= 10.00*RT, ~57000.00UPS, TraCI: 0ms, vehicles TOT 78 ACT 57 BUF 0)     "
     ]
    }
   ],
   "source": [
    "intelligent_intersection = Intelligent_Intersection_DynamicPlatoons(NUM_VEH_PLATOON=NUM_VEH_PLATOON,seed = SEED,\n",
    "                                                                        ADD_PLATOON_STEP = ADD_PLATOON_STEP,\n",
    "                                                                       ADD_PLATOON_PRO=ADD_PLATOON_PRO,\n",
    "                                                                   BLOCKING_ZONE=BLOCKING_ZONE)\n",
    "intelligent_intersection.start(sumo_cmd,STEP_TOTAL)"
   ]
  },
  {
   "cell_type": "code",
   "execution_count": 12,
   "id": "8a1601ac",
   "metadata": {},
   "outputs": [
    {
     "data": {
      "text/html": [
       "<div>\n",
       "<style scoped>\n",
       "    .dataframe tbody tr th:only-of-type {\n",
       "        vertical-align: middle;\n",
       "    }\n",
       "\n",
       "    .dataframe tbody tr th {\n",
       "        vertical-align: top;\n",
       "    }\n",
       "\n",
       "    .dataframe thead th {\n",
       "        text-align: right;\n",
       "    }\n",
       "</style>\n",
       "<table border=\"1\" class=\"dataframe\">\n",
       "  <thead>\n",
       "    <tr style=\"text-align: right;\">\n",
       "      <th></th>\n",
       "      <th>step</th>\n",
       "      <th>key</th>\n",
       "      <th>route</th>\n",
       "      <th>odometry</th>\n",
       "      <th>speed</th>\n",
       "      <th>timeLoss</th>\n",
       "      <th>current_time</th>\n",
       "      <th>desired_speed</th>\n",
       "      <th>distance_to_stop_line</th>\n",
       "      <th>max_leaving_time</th>\n",
       "      <th>leaving_time</th>\n",
       "      <th>duration</th>\n",
       "    </tr>\n",
       "  </thead>\n",
       "  <tbody>\n",
       "    <tr>\n",
       "      <th>0</th>\n",
       "      <td>1</td>\n",
       "      <td>v.0.0.0</td>\n",
       "      <td>0</td>\n",
       "      <td>0.0</td>\n",
       "      <td>5.0</td>\n",
       "      <td>0.0</td>\n",
       "      <td>0.02</td>\n",
       "      <td>NaN</td>\n",
       "      <td>NaN</td>\n",
       "      <td>NaN</td>\n",
       "      <td>NaN</td>\n",
       "      <td>0.0</td>\n",
       "    </tr>\n",
       "    <tr>\n",
       "      <th>1</th>\n",
       "      <td>1</td>\n",
       "      <td>v.0.4.0</td>\n",
       "      <td>4</td>\n",
       "      <td>0.0</td>\n",
       "      <td>5.0</td>\n",
       "      <td>0.0</td>\n",
       "      <td>0.02</td>\n",
       "      <td>NaN</td>\n",
       "      <td>NaN</td>\n",
       "      <td>NaN</td>\n",
       "      <td>NaN</td>\n",
       "      <td>0.0</td>\n",
       "    </tr>\n",
       "    <tr>\n",
       "      <th>2</th>\n",
       "      <td>1</td>\n",
       "      <td>v.0.6.0</td>\n",
       "      <td>6</td>\n",
       "      <td>0.0</td>\n",
       "      <td>5.0</td>\n",
       "      <td>0.0</td>\n",
       "      <td>0.02</td>\n",
       "      <td>NaN</td>\n",
       "      <td>NaN</td>\n",
       "      <td>NaN</td>\n",
       "      <td>NaN</td>\n",
       "      <td>0.0</td>\n",
       "    </tr>\n",
       "    <tr>\n",
       "      <th>3</th>\n",
       "      <td>1</td>\n",
       "      <td>v.0.8.0</td>\n",
       "      <td>8</td>\n",
       "      <td>0.0</td>\n",
       "      <td>5.0</td>\n",
       "      <td>0.0</td>\n",
       "      <td>0.02</td>\n",
       "      <td>NaN</td>\n",
       "      <td>NaN</td>\n",
       "      <td>NaN</td>\n",
       "      <td>NaN</td>\n",
       "      <td>0.0</td>\n",
       "    </tr>\n",
       "    <tr>\n",
       "      <th>4</th>\n",
       "      <td>1</td>\n",
       "      <td>v.0.11.0</td>\n",
       "      <td>11</td>\n",
       "      <td>0.0</td>\n",
       "      <td>5.0</td>\n",
       "      <td>0.0</td>\n",
       "      <td>0.02</td>\n",
       "      <td>NaN</td>\n",
       "      <td>NaN</td>\n",
       "      <td>NaN</td>\n",
       "      <td>NaN</td>\n",
       "      <td>0.0</td>\n",
       "    </tr>\n",
       "  </tbody>\n",
       "</table>\n",
       "</div>"
      ],
      "text/plain": [
       "   step       key  route  odometry  speed  timeLoss  current_time  \\\n",
       "0     1   v.0.0.0      0       0.0    5.0       0.0          0.02   \n",
       "1     1   v.0.4.0      4       0.0    5.0       0.0          0.02   \n",
       "2     1   v.0.6.0      6       0.0    5.0       0.0          0.02   \n",
       "3     1   v.0.8.0      8       0.0    5.0       0.0          0.02   \n",
       "4     1  v.0.11.0     11       0.0    5.0       0.0          0.02   \n",
       "\n",
       "   desired_speed  distance_to_stop_line  max_leaving_time  leaving_time  \\\n",
       "0            NaN                    NaN               NaN           NaN   \n",
       "1            NaN                    NaN               NaN           NaN   \n",
       "2            NaN                    NaN               NaN           NaN   \n",
       "3            NaN                    NaN               NaN           NaN   \n",
       "4            NaN                    NaN               NaN           NaN   \n",
       "\n",
       "   duration  \n",
       "0       0.0  \n",
       "1       0.0  \n",
       "2       0.0  \n",
       "3       0.0  \n",
       "4       0.0  "
      ]
     },
     "execution_count": 12,
     "metadata": {},
     "output_type": "execute_result"
    }
   ],
   "source": [
    "df = intelligent_intersection.veh_data.merge_veh_data()\n",
    "df.head()"
   ]
  },
  {
   "cell_type": "code",
   "execution_count": 13,
   "id": "cdd3228b-7d76-4698-9174-ef4bf6852357",
   "metadata": {},
   "outputs": [],
   "source": [
    "# Coleta de todos os veículos que ja ultrapassaram o semáforo\n",
    "lista_veiculos_apos_semaforo = list(set(df.groupby(['key'])['key'].count().index) - set(intelligent_intersection.topology.keys()))\n",
    "\n",
    "to_plot = df.query(\"key in \"+str(lista_veiculos_apos_semaforo))"
   ]
  },
  {
   "cell_type": "markdown",
   "id": "63039d4d-221f-42b1-b3a9-71902708ad4e",
   "metadata": {},
   "source": [
    "### tempo_medio_viagem"
   ]
  },
  {
   "cell_type": "code",
   "execution_count": 14,
   "id": "73331d6b",
   "metadata": {},
   "outputs": [
    {
     "name": "stdout",
     "output_type": "stream",
     "text": [
      "DURATION \t MAX [36.5]b \t-\tMIN [27.3]\n"
     ]
    },
    {
     "data": {
      "image/png": "[encoded data removed]",
      "text/plain": [
       "<Figure size 640x480 with 1 Axes>"
      ]
     },
     "metadata": {},
     "output_type": "display_data"
    }
   ],
   "source": [
    "duration = to_plot.groupby(['key'])[['duration']].last()\n",
    "print(\"DURATION \\t MAX {}b \\t-\\tMIN {}\".format(duration.max().values,duration.min().values))\n",
    "ax = to_plot.groupby(['key'])[['duration']].last().boxplot()\n",
    "plt.show()"
   ]
  },
  {
   "cell_type": "code",
   "execution_count": 15,
   "id": "83de9d2a-e681-4ecc-a033-7d6a02903a9c",
   "metadata": {},
   "outputs": [
    {
     "data": {
      "text/plain": [
       "30.714102564102568"
      ]
     },
     "execution_count": 15,
     "metadata": {},
     "output_type": "execute_result"
    }
   ],
   "source": [
    "duration.mean()[0]"
   ]
  },
  {
   "cell_type": "markdown",
   "id": "f8ceefb4-cc34-4607-b2fd-240dddc33a6f",
   "metadata": {},
   "source": [
    "### total_veh_inseridos"
   ]
  },
  {
   "cell_type": "code",
   "execution_count": 16,
   "id": "e7e55d58-d64c-4a7c-be53-6e4245c7e8d9",
   "metadata": {},
   "outputs": [
    {
     "data": {
      "text/plain": [
       "156"
      ]
     },
     "execution_count": 16,
     "metadata": {},
     "output_type": "execute_result"
    }
   ],
   "source": [
    "total_veh_inseridos = len(duration)\n",
    "total_veh_inseridos"
   ]
  },
  {
   "cell_type": "markdown",
   "id": "5cc2a2d5-d3e8-48f4-a639-a8a2936f3d41",
   "metadata": {},
   "source": [
    "### qtd_veiculos_finalizam_execucao"
   ]
  },
  {
   "cell_type": "code",
   "execution_count": 17,
   "id": "e6fe269b-8d57-4d36-ad0b-034cadc9b7ee",
   "metadata": {},
   "outputs": [
    {
     "data": {
      "text/plain": [
       "109"
      ]
     },
     "execution_count": 17,
     "metadata": {},
     "output_type": "execute_result"
    }
   ],
   "source": [
    "total_veh_inseridos - len(intelligent_intersection.topology.keys())"
   ]
  },
  {
   "cell_type": "markdown",
   "id": "431be5b9-ca30-40c9-a937-cf431181c35f",
   "metadata": {},
   "source": [
    "### qtd_colisoes"
   ]
  },
  {
   "cell_type": "code",
   "execution_count": 18,
   "id": "daa25021-a0b1-491d-819e-788528bc23ae",
   "metadata": {},
   "outputs": [
    {
     "data": {
      "text/plain": [
       "0"
      ]
     },
     "execution_count": 18,
     "metadata": {},
     "output_type": "execute_result"
    }
   ],
   "source": [
    "len(pd.DataFrame(intelligent_intersection.dic_colisoes))"
   ]
  }
 ],
 "metadata": {
  "kernelspec": {
   "display_name": "Python 3 (ipykernel)",
   "language": "python",
   "name": "python3"
  },
  "language_info": {
   "codemirror_mode": {
    "name": "ipython",
    "version": 3
   },
   "file_extension": ".py",
   "mimetype": "text/x-python",
   "name": "python",
   "nbconvert_exporter": "python",
   "pygments_lexer": "ipython3",
   "version": "3.8.10"
  }
 },
 "nbformat": 4,
 "nbformat_minor": 5
}
