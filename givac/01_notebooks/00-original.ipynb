{
 "cells": [
  {
   "cell_type": "code",
   "execution_count": 1,
   "id": "c7a3029f",
   "metadata": {},
   "outputs": [
    {
     "name": "stdout",
     "output_type": "stream",
     "text": [
      "Tempo inicial da execucao: 2024-01-14 03:49:44.268704\n"
     ]
    }
   ],
   "source": [
    "import sys\n",
    "sys.path.append(\"../02_src/02_lib/\")\n",
    "from matplotlib import pyplot as plt\n",
    "\n",
    "from traffic_light import *"
   ]
  },
  {
   "cell_type": "markdown",
   "id": "a12c7459-75b0-46d4-ba00-bebdcf7cdc0b",
   "metadata": {},
   "source": [
    "### Primeira parte sem a parte gráfica, com a coleta de dados"
   ]
  },
  {
   "cell_type": "code",
   "execution_count": 2,
   "id": "29c5e585",
   "metadata": {},
   "outputs": [],
   "source": [
    "STEP_TOTAL = 4000\n",
    "ADD_PLATOON_STEP = 100\n",
    "SEED = 58916456\n",
    "sumo_cmd = ['sumo', \n",
    "            '--duration-log.statistics', \n",
    "            '-c', '../02_src/01_scenario/3_intelligent_intersection/set/twoWay6lanes.sumo.cfg']"
   ]
  },
  {
   "cell_type": "code",
   "execution_count": 3,
   "id": "0a52a871",
   "metadata": {},
   "outputs": [
    {
     "name": "stdout",
     "output_type": "stream",
     "text": [
      " Retrying in 1 seconds\n",
      "***Starting server on port 53289 ***\n",
      "Loading net-file from '../02_src/01_scenario/3_intelligent_intersection/set/twoWay6lanes.net.xml' ... done (2ms).\n",
      "Loading done.\n",
      "Simulation version 1.18.0 started with time: 0.00.\n",
      "Step #40.00 (1ms ~= 10.00*RT, ~142000.00UPS, TraCI: 10ms, vehicles TOT 160 ACT 142 BUF 0) \n",
      "Simulation ended at time: 40.00\n",
      "Reason: TraCI requested termination.\n",
      "Performance: \n",
      " Duration: 30.21s\n",
      " TraCI-Duration: 27.49s\n",
      " Real time factor: 1.32411\n",
      " UPS: 11049.289947\n",
      "Vehicles: \n",
      " Inserted: 160\n",
      " Running: 142\n",
      " Waiting: 0\n",
      "Statistics (avg of 18):\n",
      " RouteLength: 890.73\n",
      " Speed: 25.60\n",
      " Duration: 34.85\n",
      " WaitingTime: 0.00\n",
      " TimeLoss: 2.22\n",
      " DepartDelay: 0.00\n",
      "\n"
     ]
    }
   ],
   "source": [
    "intelligent_intersection = Intelligent_Intersection(SEED,ADD_PLATOON_STEP = ADD_PLATOON_STEP)\n",
    "intelligent_intersection.start(sumo_cmd,STEP_TOTAL)"
   ]
  },
  {
   "cell_type": "code",
   "execution_count": 4,
   "id": "0d3907d9",
   "metadata": {},
   "outputs": [
    {
     "data": {
      "text/plain": [
       "58916456"
      ]
     },
     "execution_count": 4,
     "metadata": {},
     "output_type": "execute_result"
    }
   ],
   "source": [
    "intelligent_intersection.seed"
   ]
  },
  {
   "cell_type": "code",
   "execution_count": 5,
   "id": "8a1601ac",
   "metadata": {},
   "outputs": [
    {
     "data": {
      "text/html": [
       "<div>\n",
       "<style scoped>\n",
       "    .dataframe tbody tr th:only-of-type {\n",
       "        vertical-align: middle;\n",
       "    }\n",
       "\n",
       "    .dataframe tbody tr th {\n",
       "        vertical-align: top;\n",
       "    }\n",
       "\n",
       "    .dataframe thead th {\n",
       "        text-align: right;\n",
       "    }\n",
       "</style>\n",
       "<table border=\"1\" class=\"dataframe\">\n",
       "  <thead>\n",
       "    <tr style=\"text-align: right;\">\n",
       "      <th></th>\n",
       "      <th>step</th>\n",
       "      <th>key</th>\n",
       "      <th>route</th>\n",
       "      <th>odometry</th>\n",
       "      <th>speed</th>\n",
       "      <th>timeLoss</th>\n",
       "      <th>current_time</th>\n",
       "      <th>desired_speed</th>\n",
       "      <th>distance_to_stop_line</th>\n",
       "      <th>max_leaving_time</th>\n",
       "      <th>leaving_time</th>\n",
       "      <th>duration</th>\n",
       "    </tr>\n",
       "  </thead>\n",
       "  <tbody>\n",
       "    <tr>\n",
       "      <th>0</th>\n",
       "      <td>1</td>\n",
       "      <td>v.0.8.0</td>\n",
       "      <td>8</td>\n",
       "      <td>0.000000</td>\n",
       "      <td>5.000000</td>\n",
       "      <td>0.000000</td>\n",
       "      <td>0.02</td>\n",
       "      <td>NaN</td>\n",
       "      <td>NaN</td>\n",
       "      <td>NaN</td>\n",
       "      <td>NaN</td>\n",
       "      <td>0.0</td>\n",
       "    </tr>\n",
       "    <tr>\n",
       "      <th>1</th>\n",
       "      <td>1</td>\n",
       "      <td>v.0.11.0</td>\n",
       "      <td>11</td>\n",
       "      <td>0.000000</td>\n",
       "      <td>5.000000</td>\n",
       "      <td>0.000000</td>\n",
       "      <td>0.02</td>\n",
       "      <td>NaN</td>\n",
       "      <td>NaN</td>\n",
       "      <td>NaN</td>\n",
       "      <td>NaN</td>\n",
       "      <td>0.0</td>\n",
       "    </tr>\n",
       "    <tr>\n",
       "      <th>2</th>\n",
       "      <td>11</td>\n",
       "      <td>v.0.8.0</td>\n",
       "      <td>8</td>\n",
       "      <td>0.501652</td>\n",
       "      <td>5.040697</td>\n",
       "      <td>0.069780</td>\n",
       "      <td>0.12</td>\n",
       "      <td>NaN</td>\n",
       "      <td>NaN</td>\n",
       "      <td>NaN</td>\n",
       "      <td>NaN</td>\n",
       "      <td>0.1</td>\n",
       "    </tr>\n",
       "    <tr>\n",
       "      <th>3</th>\n",
       "      <td>11</td>\n",
       "      <td>v.0.11.0</td>\n",
       "      <td>11</td>\n",
       "      <td>0.501652</td>\n",
       "      <td>5.040697</td>\n",
       "      <td>0.069780</td>\n",
       "      <td>0.12</td>\n",
       "      <td>NaN</td>\n",
       "      <td>NaN</td>\n",
       "      <td>NaN</td>\n",
       "      <td>NaN</td>\n",
       "      <td>0.1</td>\n",
       "    </tr>\n",
       "    <tr>\n",
       "      <th>4</th>\n",
       "      <td>21</td>\n",
       "      <td>v.0.8.0</td>\n",
       "      <td>8</td>\n",
       "      <td>1.011029</td>\n",
       "      <td>5.145943</td>\n",
       "      <td>0.139095</td>\n",
       "      <td>0.22</td>\n",
       "      <td>NaN</td>\n",
       "      <td>NaN</td>\n",
       "      <td>NaN</td>\n",
       "      <td>NaN</td>\n",
       "      <td>0.2</td>\n",
       "    </tr>\n",
       "  </tbody>\n",
       "</table>\n",
       "</div>"
      ],
      "text/plain": [
       "   step       key  route  odometry     speed  timeLoss  current_time  \\\n",
       "0     1   v.0.8.0      8  0.000000  5.000000  0.000000          0.02   \n",
       "1     1  v.0.11.0     11  0.000000  5.000000  0.000000          0.02   \n",
       "2    11   v.0.8.0      8  0.501652  5.040697  0.069780          0.12   \n",
       "3    11  v.0.11.0     11  0.501652  5.040697  0.069780          0.12   \n",
       "4    21   v.0.8.0      8  1.011029  5.145943  0.139095          0.22   \n",
       "\n",
       "   desired_speed  distance_to_stop_line  max_leaving_time  leaving_time  \\\n",
       "0            NaN                    NaN               NaN           NaN   \n",
       "1            NaN                    NaN               NaN           NaN   \n",
       "2            NaN                    NaN               NaN           NaN   \n",
       "3            NaN                    NaN               NaN           NaN   \n",
       "4            NaN                    NaN               NaN           NaN   \n",
       "\n",
       "   duration  \n",
       "0       0.0  \n",
       "1       0.0  \n",
       "2       0.1  \n",
       "3       0.1  \n",
       "4       0.2  "
      ]
     },
     "execution_count": 5,
     "metadata": {},
     "output_type": "execute_result"
    }
   ],
   "source": [
    "df = intelligent_intersection.veh_data.merge_veh_data()\n",
    "df.head()"
   ]
  },
  {
   "cell_type": "code",
   "execution_count": 6,
   "id": "701d3d6a",
   "metadata": {},
   "outputs": [],
   "source": [
    "# Coleta de todos os veículos que ja ultrapassaram o semáforo\n",
    "lista_veiculos_apos_semaforo = list(set(df.groupby(['key'])['key'].count().index) - set(intelligent_intersection.topology.keys()))\n",
    "\n",
    "to_plot = df.query(\"key in \"+str(lista_veiculos_apos_semaforo))"
   ]
  },
  {
   "cell_type": "code",
   "execution_count": 7,
   "id": "1db8a7ae",
   "metadata": {},
   "outputs": [
    {
     "name": "stdout",
     "output_type": "stream",
     "text": [
      "Total number of veh.: 24      \n",
      "Average delay (s):[2.00365013]      \n",
      "Variance:[0.89082901]\n"
     ]
    },
    {
     "data": {
      "image/png": "[encoded data removed]",
      "text/plain": [
       "<Figure size 640x480 with 1 Axes>"
      ]
     },
     "metadata": {},
     "output_type": "display_data"
    }
   ],
   "source": [
    "df_timeLoss  = to_plot.groupby(['key'])[['timeLoss']].last()\n",
    "print(\"Total number of veh.: {}\\\n",
    "      \\nAverage delay (s):{}\\\n",
    "      \\nVariance:{}\".format(len(df_timeLoss.index),df_timeLoss.mean().values,df_timeLoss.var().values))\n",
    "ax = df_timeLoss.boxplot()\n",
    "plt.show()"
   ]
  },
  {
   "cell_type": "code",
   "execution_count": 8,
   "id": "5dcf52d1",
   "metadata": {},
   "outputs": [
    {
     "name": "stdout",
     "output_type": "stream",
     "text": [
      "TimeLoss Negatigo: 1\n"
     ]
    }
   ],
   "source": [
    "print(\"TimeLoss Negatigo:\",len(df_timeLoss.query(\"timeLoss < 0\")))"
   ]
  },
  {
   "cell_type": "code",
   "execution_count": 9,
   "id": "73331d6b",
   "metadata": {},
   "outputs": [
    {
     "name": "stdout",
     "output_type": "stream",
     "text": [
      "DURATION \t MAX [35.9] \t-\tMIN [31.1]\n"
     ]
    },
    {
     "data": {
      "image/png": "[encoded data removed]",
      "text/plain": [
       "<Figure size 640x480 with 1 Axes>"
      ]
     },
     "metadata": {},
     "output_type": "display_data"
    }
   ],
   "source": [
    "duration = to_plot.groupby(['key'])[['duration']].last()\n",
    "print(\"DURATION \\t MAX {} \\t-\\tMIN {}\".format(duration.max().values,duration.min().values))\n",
    "ax = to_plot.groupby(['key'])[['duration']].last().boxplot()\n",
    "plt.show()"
   ]
  },
  {
   "cell_type": "code",
   "execution_count": 10,
   "id": "817a98c2",
   "metadata": {},
   "outputs": [
    {
     "data": {
      "image/png": "[encoded data removed]",
      "text/plain": [
       "<Figure size 640x480 with 1 Axes>"
      ]
     },
     "metadata": {},
     "output_type": "display_data"
    }
   ],
   "source": [
    "ax = to_plot[['key','speed']].plot(x='speed', y='key',kind='scatter')\n",
    "plt.show()"
   ]
  },
  {
   "cell_type": "code",
   "execution_count": 11,
   "id": "08bbcaec",
   "metadata": {},
   "outputs": [
    {
     "name": "stdout",
     "output_type": "stream",
     "text": [
      "Exemplo das variáveis:       \n",
      "\n",
      "serving_list =>[veh, route, leaving_time, priority]:\n",
      "['v.9.11.0', 11, 0.44521092264886447, 0]       \n",
      "\n",
      "serving_list_veh_only:\n",
      "v.9.11.0       \n",
      "\n",
      "topology:\n",
      "('v.39.11.0', {})       \n",
      "\n",
      "Total de Passos:4000       \n"
     ]
    }
   ],
   "source": [
    "print(\"Exemplo das variáveis:\\\n",
    "       \\n\\nserving_list =>[veh, route, leaving_time, priority]:\\n{}\\\n",
    "       \\n\\nserving_list_veh_only:\\n{}\\\n",
    "       \\n\\ntopology:\\n{}\\\n",
    "       \\n\\nTotal de Passos:{}\\\n",
    "       \".format(intelligent_intersection.serving_list[0],\n",
    "               intelligent_intersection.serving_list_veh_only[0],\n",
    "               intelligent_intersection.topology.popitem(),\n",
    "               intelligent_intersection.step))"
   ]
  },
  {
   "cell_type": "code",
   "execution_count": 12,
   "id": "61655be6",
   "metadata": {},
   "outputs": [
    {
     "data": {
      "text/plain": [
       "0     v.0.8.0\n",
       "1    v.0.11.0\n",
       "2     v.0.8.0\n",
       "3    v.0.11.0\n",
       "4     v.0.8.0\n",
       "Name: key, dtype: object"
      ]
     },
     "execution_count": 12,
     "metadata": {},
     "output_type": "execute_result"
    }
   ],
   "source": [
    "df.key.head()"
   ]
  },
  {
   "cell_type": "code",
   "execution_count": 13,
   "id": "d91987e8",
   "metadata": {},
   "outputs": [
    {
     "name": "stdout",
     "output_type": "stream",
     "text": [
      "Tempo de execucao ate este ponto: 0:00:31.828067\n"
     ]
    }
   ],
   "source": [
    "executionTime()"
   ]
  },
  {
   "cell_type": "markdown",
   "id": "af92acc5",
   "metadata": {},
   "source": [
    "### Segunda parte com interface gráfica do SUMO-GUI"
   ]
  },
  {
   "cell_type": "code",
   "execution_count": 14,
   "id": "ffb2f351",
   "metadata": {},
   "outputs": [
    {
     "name": "stdout",
     "output_type": "stream",
     "text": [
      " Retrying in 1 seconds\n"
     ]
    }
   ],
   "source": [
    "sumo_cmd = ['sumo-gui', \n",
    "            '--duration-log.statistics', \n",
    "            '-c', '../02_src/01_scenario/3_intelligent_intersection/set/twoWay6lanes.sumo.cfg']\n",
    "intelligent_intersection = Intelligent_Intersection(SEED)\n",
    "intelligent_intersection.start(sumo_cmd,STEP_TOTAL)"
   ]
  }
 ],
 "metadata": {
  "kernelspec": {
   "display_name": "Python 3 (ipykernel)",
   "language": "python",
   "name": "python3"
  },
  "language_info": {
   "codemirror_mode": {
    "name": "ipython",
    "version": 3
   },
   "file_extension": ".py",
   "mimetype": "text/x-python",
   "name": "python",
   "nbconvert_exporter": "python",
   "pygments_lexer": "ipython3",
   "version": "3.8.10"
  }
 },
 "nbformat": 4,
 "nbformat_minor": 5
}
