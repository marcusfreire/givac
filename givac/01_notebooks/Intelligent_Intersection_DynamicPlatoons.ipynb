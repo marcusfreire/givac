{
 "cells": [
  {
   "cell_type": "code",
   "execution_count": 1,
   "id": "c7a3029f",
   "metadata": {},
   "outputs": [
    {
     "name": "stdout",
     "output_type": "stream",
     "text": [
      "Tempo inicial da execucao: 2023-11-14 20:06:49.691939\n"
     ]
    }
   ],
   "source": [
    "import sys\n",
    "sys.path.append(\"../02_src/02_lib/\")\n",
    "from matplotlib import pyplot as plt\n",
    "\n",
    "from traffic_light import *"
   ]
  },
  {
   "cell_type": "markdown",
   "id": "a12c7459-75b0-46d4-ba00-bebdcf7cdc0b",
   "metadata": {},
   "source": [
    "### Primeira parte sem a parte gráfica, com a coleta de dados"
   ]
  },
  {
   "cell_type": "code",
   "execution_count": 2,
   "id": "29c5e585",
   "metadata": {},
   "outputs": [],
   "source": [
    "STEP_TOTAL = 5000\n",
    "ADD_PLATOON_STEP = 600\n",
    "SEED = 48102093\n",
    "NUM_VEH_PLATOON = 15\n",
    "sumo_cmd = ['sumo-gui', \n",
    "            '--duration-log.statistics', \n",
    "            '-c', '../02_src/01_scenario/3_intelligent_intersection/set/twoWay6lanes.sumo.cfg']"
   ]
  },
  {
   "cell_type": "code",
   "execution_count": null,
   "id": "0a52a871",
   "metadata": {},
   "outputs": [
    {
     "name": "stdout",
     "output_type": "stream",
     "text": [
      " Retrying in 1 seconds\n"
     ]
    }
   ],
   "source": [
    "intelligent_intersection = Intelligent_Intersection_DynamicPlatoons(NUM_VEH_PLATOON,SEED,ADD_PLATOON_STEP = ADD_PLATOON_STEP)\n",
    "intelligent_intersection.start(sumo_cmd,STEP_TOTAL)"
   ]
  },
  {
   "cell_type": "code",
   "execution_count": null,
   "id": "0d3907d9",
   "metadata": {},
   "outputs": [],
   "source": [
    "intelligent_intersection.seed"
   ]
  },
  {
   "cell_type": "code",
   "execution_count": null,
   "id": "8a1601ac",
   "metadata": {},
   "outputs": [],
   "source": [
    "df = intelligent_intersection.veh_data.merge_veh_data()\n",
    "df.head()"
   ]
  },
  {
   "cell_type": "code",
   "execution_count": null,
   "id": "701d3d6a",
   "metadata": {},
   "outputs": [],
   "source": [
    "# Coleta de todos os veículos que ja ultrapassaram o semáforo\n",
    "lista_veiculos_apos_semaforo = list(set(df.groupby(['key'])['key'].count().index) - set(intelligent_intersection.topology.keys()))\n",
    "\n",
    "to_plot = df.query(\"key in \"+str(lista_veiculos_apos_semaforo))"
   ]
  },
  {
   "cell_type": "code",
   "execution_count": null,
   "id": "73331d6b",
   "metadata": {},
   "outputs": [],
   "source": [
    "duration = to_plot.groupby(['key'])[['duration']].last()\n",
    "print(\"DURATION \\t MAX {} \\t-\\tMIN {}\".format(duration.max().values,duration.min().values))\n",
    "ax = to_plot.groupby(['key'])[['duration']].last().boxplot()\n",
    "plt.show()"
   ]
  },
  {
   "cell_type": "code",
   "execution_count": null,
   "id": "817a98c2",
   "metadata": {},
   "outputs": [],
   "source": [
    "ax = to_plot[['key','speed']].plot(x='speed', y='key',kind='scatter')\n",
    "plt.show()"
   ]
  },
  {
   "cell_type": "code",
   "execution_count": null,
   "id": "08bbcaec",
   "metadata": {},
   "outputs": [],
   "source": [
    "print(\"Exemplo das variáveis:\\\n",
    "       \\n\\nserving_list =>[veh, route, leaving_time, priority]:\\n{}\\\n",
    "       \\n\\nserving_list_veh_only:\\n{}\\\n",
    "       \\n\\ntopology:\\n{}\\\n",
    "       \\n\\nTotal de Passos:{}\\\n",
    "       \".format(intelligent_intersection.serving_list[0],\n",
    "               intelligent_intersection.serving_list_veh_only[0],\n",
    "               intelligent_intersection.topology.popitem(),\n",
    "               intelligent_intersection.step))"
   ]
  },
  {
   "cell_type": "code",
   "execution_count": null,
   "id": "61655be6",
   "metadata": {},
   "outputs": [],
   "source": [
    "df.key.head()"
   ]
  },
  {
   "cell_type": "code",
   "execution_count": null,
   "id": "d91987e8",
   "metadata": {},
   "outputs": [],
   "source": [
    "executionTime()"
   ]
  }
 ],
 "metadata": {
  "kernelspec": {
   "display_name": "Python 3 (ipykernel)",
   "language": "python",
   "name": "python3"
  },
  "language_info": {
   "codemirror_mode": {
    "name": "ipython",
    "version": 3
   },
   "file_extension": ".py",
   "mimetype": "text/x-python",
   "name": "python",
   "nbconvert_exporter": "python",
   "pygments_lexer": "ipython3",
   "version": "3.8.10"
  }
 },
 "nbformat": 4,
 "nbformat_minor": 5
}
