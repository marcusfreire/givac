{
 "cells": [
  {
   "cell_type": "code",
   "execution_count": 1,
   "id": "c7a3029f",
   "metadata": {},
   "outputs": [
    {
     "name": "stdout",
     "output_type": "stream",
     "text": [
      "Tempo inicial da execucao: 2024-01-12 14:48:46.705629\n"
     ]
    }
   ],
   "source": [
    "import sys\n",
    "# import multiprocessing\n",
    "sys.path.append(\"../02_src/02_lib/\")\n",
    "from matplotlib import pyplot as plt\n",
    "\n",
    "from traffic_light import *"
   ]
  },
  {
   "cell_type": "markdown",
   "id": "a12c7459-75b0-46d4-ba00-bebdcf7cdc0b",
   "metadata": {},
   "source": [
    "### Primeira parte sem a parte gráfica, com a coleta de dados"
   ]
  },
  {
   "cell_type": "code",
   "execution_count": 2,
   "id": "29c5e585",
   "metadata": {},
   "outputs": [],
   "source": [
    "STEP_TOTAL = 11500\n",
    "ADD_PLATOON_STEP = 100\n",
    "SEED = 58916456\n",
    "NUM_VEH_PLATOON = 8\n",
    "sumo_cmd = ['sumo-gui', \n",
    "            '--duration-log.statistics', \n",
    "            '-c', '../02_src/01_scenario/3_intelligent_intersection/set/twoWay6lanes.sumo.cfg']"
   ]
  },
  {
   "cell_type": "code",
   "execution_count": 3,
   "id": "0a52a871",
   "metadata": {
    "scrolled": true
   },
   "outputs": [
    {
     "name": "stdout",
     "output_type": "stream",
     "text": [
      " Retrying in 1 seconds\n"
     ]
    }
   ],
   "source": [
    "intelligent_intersection = Intelligent_Intersection_DynamicPlatoons(NUM_VEH_PLATOON,SEED,ADD_PLATOON_STEP = ADD_PLATOON_STEP)\n",
    "intelligent_intersection.start(sumo_cmd,STEP_TOTAL)"
   ]
  },
  {
   "cell_type": "code",
   "execution_count": 9,
   "id": "7a6e98fd-e8f6-48a5-9bd9-1ed78fc89081",
   "metadata": {},
   "outputs": [
    {
     "data": {
      "text/plain": [
       "{'ISleader': True, 'tail': None, 'second': None, 'distance': 4}"
      ]
     },
     "execution_count": 9,
     "metadata": {},
     "output_type": "execute_result"
    }
   ],
   "source": [
    "intelligent_intersection.topology['v.97.2.0']"
   ]
  },
  {
   "cell_type": "code",
   "execution_count": 5,
   "id": "3f9c7833-f78e-40ad-b8b8-b7ef71f7dfe4",
   "metadata": {
    "scrolled": true
   },
   "outputs": [
    {
     "data": {
      "text/plain": [
       "{'v.72.5.0': {'ISleader': True,\n",
       "  'tail': 'v.75.5.0',\n",
       "  'second': 'v.75.5.0',\n",
       "  'distance': 15.02800000000002},\n",
       " 'v.72.7.0': {'ISleader': True,\n",
       "  'tail': 'v.79.7.0',\n",
       "  'second': 'v.79.7.0',\n",
       "  'distance': 38.41899999999998},\n",
       " 'v.75.2.0': {'ISleader': True,\n",
       "  'tail': 'v.79.2.0',\n",
       "  'second': 'v.77.2.0',\n",
       "  'distance': 37.474999999999994},\n",
       " 'v.75.5.0': {'leader': 'v.72.5.0', 'front': 'v.72.5.0'},\n",
       " 'v.76.0.0': {'ISleader': True,\n",
       "  'tail': 'v.82.0.0',\n",
       "  'second': 'v.81.0.0',\n",
       "  'distance': 30.793000000000006},\n",
       " 'v.76.3.0': {'ISleader': True,\n",
       "  'tail': 'v.81.3.0',\n",
       "  'second': 'v.79.3.0',\n",
       "  'distance': 39.86200000000002},\n",
       " 'v.76.6.0': {'ISleader': True, 'tail': None, 'second': None, 'distance': 4},\n",
       " 'v.77.2.0': {'leader': 'v.75.2.0', 'front': 'v.75.2.0'},\n",
       " 'v.77.4.0': {'ISleader': True,\n",
       "  'tail': 'v.82.4.0',\n",
       "  'second': 'v.82.4.0',\n",
       "  'distance': 15.502600000000001},\n",
       " 'v.77.9.0': {'ISleader': True,\n",
       "  'tail': 'v.81.9.0',\n",
       "  'second': 'v.80.9.0',\n",
       "  'distance': 27.03000000000003},\n",
       " 'v.78.2.0': {'leader': 'v.75.2.0', 'front': 'v.77.2.0'},\n",
       " 'v.78.11.0': {'ISleader': True,\n",
       "  'tail': 'v.85.11.0',\n",
       "  'second': 'v.79.11.0',\n",
       "  'distance': 45.168688844048674},\n",
       " 'v.79.2.0': {'leader': 'v.75.2.0', 'front': 'v.78.2.0'},\n",
       " 'v.79.3.0': {'leader': 'v.76.3.0', 'front': 'v.76.3.0'},\n",
       " 'v.79.7.0': {'leader': 'v.72.7.0', 'front': 'v.72.7.0'},\n",
       " 'v.79.10.0': {'ISleader': True,\n",
       "  'tail': 'v.89.10.0',\n",
       "  'second': 'v.85.10.0',\n",
       "  'distance': 67.995},\n",
       " 'v.79.11.0': {'leader': 'v.78.11.0', 'front': 'v.78.11.0'},\n",
       " 'v.80.3.0': {'leader': 'v.76.3.0', 'front': 'v.79.3.0'},\n",
       " 'v.80.7.0': {'ISleader': True,\n",
       "  'tail': 'v.92.7.0',\n",
       "  'second': 'v.90.7.0',\n",
       "  'distance': 87.99300000000002},\n",
       " 'v.80.8.0': {'ISleader': True,\n",
       "  'tail': 'v.84.8.0',\n",
       "  'second': 'v.83.8.0',\n",
       "  'distance': 28.000100000000003},\n",
       " 'v.80.9.0': {'leader': 'v.77.9.0', 'front': 'v.77.9.0'},\n",
       " 'v.80.11.0': {'leader': 'v.78.11.0', 'front': 'v.79.11.0'},\n",
       " 'v.81.0.0': {'leader': 'v.76.0.0', 'front': 'v.76.0.0'},\n",
       " 'v.81.3.0': {'leader': 'v.76.3.0', 'front': 'v.80.3.0'},\n",
       " 'v.81.9.0': {'leader': 'v.77.9.0', 'front': 'v.80.9.0'},\n",
       " 'v.81.11.0': {'leader': 'v.78.11.0', 'front': 'v.80.11.0'},\n",
       " 'v.82.0.0': {'leader': 'v.76.0.0', 'front': 'v.81.0.0'},\n",
       " 'v.82.2.0': {'ISleader': True,\n",
       "  'tail': 'v.93.2.0',\n",
       "  'second': 'v.87.2.0',\n",
       "  'distance': 78.78200000000001},\n",
       " 'v.82.4.0': {'leader': 'v.77.4.0', 'front': 'v.77.4.0'},\n",
       " 'v.82.5.0': {'ISleader': True,\n",
       "  'tail': 'v.92.5.0',\n",
       "  'second': 'v.92.5.0',\n",
       "  'distance': 80.82400000000001},\n",
       " 'v.83.3.0': {'ISleader': True,\n",
       "  'tail': 'v.89.3.0',\n",
       "  'second': 'v.87.3.0',\n",
       "  'distance': 56.771100000000004},\n",
       " 'v.83.8.0': {'leader': 'v.80.8.0', 'front': 'v.80.8.0'},\n",
       " 'v.84.0.0': {'ISleader': True,\n",
       "  'tail': 'v.90.0.0',\n",
       "  'second': 'v.89.0.0',\n",
       "  'distance': 36.13879517386631},\n",
       " 'v.84.8.0': {'leader': 'v.80.8.0', 'front': 'v.83.8.0'},\n",
       " 'v.85.6.0': {'ISleader': True,\n",
       "  'tail': 'v.89.6.0',\n",
       "  'second': 'v.86.6.0',\n",
       "  'distance': 40.7281},\n",
       " 'v.85.10.0': {'leader': 'v.79.10.0', 'front': 'v.79.10.0'},\n",
       " 'v.85.11.0': {'leader': 'v.78.11.0', 'front': 'v.81.11.0'},\n",
       " 'v.86.1.0': {'ISleader': True,\n",
       "  'tail': 'v.92.1.0',\n",
       "  'second': 'v.87.1.0',\n",
       "  'distance': 36.078},\n",
       " 'v.86.6.0': {'leader': 'v.85.6.0', 'front': 'v.85.6.0'},\n",
       " 'v.87.1.0': {'leader': 'v.86.1.0', 'front': 'v.86.1.0'},\n",
       " 'v.87.2.0': {'leader': 'v.82.2.0', 'front': 'v.82.2.0'},\n",
       " 'v.87.3.0': {'leader': 'v.83.3.0', 'front': 'v.83.3.0'},\n",
       " 'v.87.9.0': {'ISleader': True,\n",
       "  'tail': 'v.88.9.0',\n",
       "  'second': 'v.88.9.0',\n",
       "  'distance': 15.868899999999996},\n",
       " 'v.88.2.0': {'leader': 'v.82.2.0', 'front': 'v.87.2.0'},\n",
       " 'v.88.3.0': {'leader': 'v.83.3.0', 'front': 'v.87.3.0'},\n",
       " 'v.88.6.0': {'leader': 'v.85.6.0', 'front': 'v.86.6.0'},\n",
       " 'v.88.9.0': {'leader': 'v.87.9.0', 'front': 'v.87.9.0'},\n",
       " 'v.88.10.0': {'leader': 'v.79.10.0', 'front': 'v.85.10.0'},\n",
       " 'v.89.0.0': {'leader': 'v.84.0.0', 'front': 'v.84.0.0'},\n",
       " 'v.89.2.0': {'leader': 'v.82.2.0', 'front': 'v.88.2.0'},\n",
       " 'v.89.3.0': {'leader': 'v.83.3.0', 'front': 'v.88.3.0'},\n",
       " 'v.89.6.0': {'leader': 'v.85.6.0', 'front': 'v.88.6.0'},\n",
       " 'v.89.8.0': {'ISleader': True,\n",
       "  'tail': 'v.95.8.0',\n",
       "  'second': 'v.90.8.0',\n",
       "  'distance': 42.79499999999999},\n",
       " 'v.89.10.0': {'leader': 'v.79.10.0', 'front': 'v.88.10.0'},\n",
       " 'v.90.0.0': {'leader': 'v.84.0.0', 'front': 'v.89.0.0'},\n",
       " 'v.90.7.0': {'leader': 'v.80.7.0', 'front': 'v.80.7.0'},\n",
       " 'v.90.8.0': {'leader': 'v.89.8.0', 'front': 'v.89.8.0'},\n",
       " 'v.90.10.0': {'ISleader': True,\n",
       "  'tail': 'v.94.10.0',\n",
       "  'second': 'v.91.10.0',\n",
       "  'distance': 33.98600000000002},\n",
       " 'v.91.0.0': {'ISleader': True,\n",
       "  'tail': 'v.97.0.0',\n",
       "  'second': 'v.92.0.0',\n",
       "  'distance': 58.90899999999999},\n",
       " 'v.91.3.0': {'ISleader': True,\n",
       "  'tail': 'v.93.3.0',\n",
       "  'second': 'v.93.3.0',\n",
       "  'distance': 17.187000000000012},\n",
       " 'v.91.4.0': {'ISleader': True, 'tail': None, 'second': None, 'distance': 4},\n",
       " 'v.91.10.0': {'leader': 'v.90.10.0', 'front': 'v.90.10.0'},\n",
       " 'v.92.0.0': {'leader': 'v.91.0.0', 'front': 'v.91.0.0'},\n",
       " 'v.92.1.0': {'leader': 'v.86.1.0', 'front': 'v.87.1.0'},\n",
       " 'v.92.2.0': {'leader': 'v.82.2.0', 'front': 'v.89.2.0'},\n",
       " 'v.92.5.0': {'leader': 'v.82.5.0', 'front': 'v.82.5.0'},\n",
       " 'v.92.7.0': {'leader': 'v.80.7.0', 'front': 'v.90.7.0'},\n",
       " 'v.92.11.0': {'ISleader': True,\n",
       "  'tail': 'v.97.11.0',\n",
       "  'second': 'v.97.11.0',\n",
       "  'distance': 41.132000000000005},\n",
       " 'v.93.2.0': {'leader': 'v.82.2.0', 'front': 'v.92.2.0'},\n",
       " 'v.93.3.0': {'leader': 'v.91.3.0', 'front': 'v.91.3.0'},\n",
       " 'v.93.6.0': {'ISleader': True,\n",
       "  'tail': 'v.98.6.0',\n",
       "  'second': 'v.98.6.0',\n",
       "  'distance': 49.474999999999994},\n",
       " 'v.93.8.0': {'leader': 'v.89.8.0', 'front': 'v.90.8.0'},\n",
       " 'v.94.0.0': {'leader': 'v.91.0.0', 'front': 'v.92.0.0'},\n",
       " 'v.94.1.0': {'ISleader': True,\n",
       "  'tail': 'v.100.1.0',\n",
       "  'second': 'v.100.1.0',\n",
       "  'distance': 80.22999999999999},\n",
       " 'v.94.2.0': {'ISleader': True,\n",
       "  'tail': 'v.98.2.0',\n",
       "  'second': 'v.96.2.0',\n",
       "  'distance': 313.8919498326883},\n",
       " 'v.94.10.0': {'leader': 'v.90.10.0', 'front': 'v.91.10.0'},\n",
       " 'v.95.8.0': {'leader': 'v.89.8.0', 'front': 'v.93.8.0'},\n",
       " 'v.95.9.0': {'ISleader': True,\n",
       "  'tail': 'v.101.9.0',\n",
       "  'second': 'v.99.9.0',\n",
       "  'distance': 98.94900000000001},\n",
       " 'v.96.2.0': {'leader': 'v.94.2.0', 'front': 'v.94.2.0'},\n",
       " 'v.97.0.0': {'leader': 'v.91.0.0', 'front': 'v.94.0.0'},\n",
       " 'v.97.2.0': {'leader': 'v.94.2.0', 'front': 'v.96.2.0'},\n",
       " 'v.97.7.0': {'ISleader': True,\n",
       "  'tail': 'v.102.7.0',\n",
       "  'second': 'v.100.7.0',\n",
       "  'distance': 90.16399999999999},\n",
       " 'v.97.8.0': {'ISleader': True, 'tail': None, 'second': None, 'distance': 4},\n",
       " 'v.97.11.0': {'leader': 'v.92.11.0', 'front': 'v.92.11.0'},\n",
       " 'v.98.0.0': {'ISleader': True,\n",
       "  'tail': 'v.102.0.0',\n",
       "  'second': 'v.102.0.0',\n",
       "  'distance': 64.495},\n",
       " 'v.98.2.0': {'leader': 'v.94.2.0', 'front': 'v.97.2.0'},\n",
       " 'v.98.4.0': {'ISleader': True, 'tail': None, 'second': None, 'distance': 4},\n",
       " 'v.98.6.0': {'leader': 'v.93.6.0', 'front': 'v.93.6.0'},\n",
       " 'v.99.9.0': {'leader': 'v.95.9.0', 'front': 'v.95.9.0'},\n",
       " 'v.99.11.0': {'ISleader': True, 'tail': None, 'second': None, 'distance': 4},\n",
       " 'v.100.1.0': {'leader': 'v.94.1.0', 'front': 'v.94.1.0'},\n",
       " 'v.100.2.0': {'ISleader': True,\n",
       "  'tail': 'v.105.2.0',\n",
       "  'second': 'v.104.2.0',\n",
       "  'distance': 67.03800000000001},\n",
       " 'v.100.7.0': {'leader': 'v.97.7.0', 'front': 'v.97.7.0'},\n",
       " 'v.100.9.0': {'leader': 'v.95.9.0', 'front': 'v.99.9.0'},\n",
       " 'v.101.6.0': {'ISleader': True,\n",
       "  'tail': 'v.105.6.0',\n",
       "  'second': 'v.102.6.0',\n",
       "  'distance': 49.399},\n",
       " 'v.101.9.0': {'leader': 'v.95.9.0', 'front': 'v.100.9.0'},\n",
       " 'v.101.10.0': {'ISleader': True,\n",
       "  'tail': 'v.105.10.0',\n",
       "  'second': 'v.102.10.0',\n",
       "  'distance': 49.399},\n",
       " 'v.102.0.0': {'leader': 'v.98.0.0', 'front': 'v.98.0.0'},\n",
       " 'v.102.6.0': {'leader': 'v.101.6.0', 'front': 'v.101.6.0'},\n",
       " 'v.102.7.0': {'leader': 'v.97.7.0', 'front': 'v.100.7.0'},\n",
       " 'v.102.9.0': {'ISleader': True,\n",
       "  'tail': 'v.104.9.0',\n",
       "  'second': 'v.104.9.0',\n",
       "  'distance': 23.973000000000013},\n",
       " 'v.102.10.0': {'leader': 'v.101.10.0', 'front': 'v.101.10.0'},\n",
       " 'v.103.1.0': {'ISleader': True, 'tail': None, 'second': None, 'distance': 4},\n",
       " 'v.103.6.0': {'leader': 'v.101.6.0', 'front': 'v.102.6.0'},\n",
       " 'v.103.10.0': {'leader': 'v.101.10.0', 'front': 'v.102.10.0'},\n",
       " 'v.104.2.0': {'leader': 'v.100.2.0', 'front': 'v.100.2.0'},\n",
       " 'v.104.3.0': {'ISleader': True, 'tail': None, 'second': None, 'distance': 4},\n",
       " 'v.104.7.0': {'ISleader': True, 'tail': None, 'second': None, 'distance': 4},\n",
       " 'v.104.9.0': {'leader': 'v.102.9.0', 'front': 'v.102.9.0'},\n",
       " 'v.105.2.0': {'leader': 'v.100.2.0', 'front': 'v.104.2.0'},\n",
       " 'v.105.4.0': {'ISleader': True, 'tail': None, 'second': None, 'distance': 4},\n",
       " 'v.105.6.0': {'leader': 'v.101.6.0', 'front': 'v.103.6.0'},\n",
       " 'v.105.7.0': {'ISleader': True, 'tail': None, 'second': None, 'distance': 4},\n",
       " 'v.105.10.0': {'leader': 'v.101.10.0', 'front': 'v.103.10.0'}}"
      ]
     },
     "execution_count": 5,
     "metadata": {},
     "output_type": "execute_result"
    }
   ],
   "source": [
    "intelligent_intersection.topology"
   ]
  },
  {
   "cell_type": "code",
   "execution_count": 8,
   "id": "e0f4f91e-ab9c-4b78-978c-b0da3df4d3ff",
   "metadata": {},
   "outputs": [
    {
     "data": {
      "text/plain": [
       "{'leader': 'v.94.2.0', 'front': 'v.94.2.0'}"
      ]
     },
     "execution_count": 8,
     "metadata": {},
     "output_type": "execute_result"
    }
   ],
   "source": [
    "intelligent_intersection.topology['v.96.2.0']"
   ]
  },
  {
   "cell_type": "code",
   "execution_count": null,
   "id": "9d4057cd-130f-4faa-9d21-d952853e3e54",
   "metadata": {},
   "outputs": [],
   "source": []
  },
  {
   "cell_type": "code",
   "execution_count": 17,
   "id": "2244a6bc-ba1f-4d4e-ae6f-44ec259d9ea1",
   "metadata": {},
   "outputs": [
    {
     "data": {
      "text/plain": [
       "':junction_10_0'"
      ]
     },
     "execution_count": 17,
     "metadata": {},
     "output_type": "execute_result"
    }
   ],
   "source": [
    "traci.vehicle.getLaneID('v.4.10.0')[:3]"
   ]
  },
  {
   "cell_type": "code",
   "execution_count": 5,
   "id": "9e1068b6-da1d-463c-9fd6-d5c02f7220ce",
   "metadata": {},
   "outputs": [
    {
     "data": {
      "text/plain": [
       "'end'"
      ]
     },
     "execution_count": 5,
     "metadata": {},
     "output_type": "execute_result"
    }
   ],
   "source": [
    "traci.vehicle.getLaneID('v.0.8.0')[:3]"
   ]
  },
  {
   "cell_type": "code",
   "execution_count": 12,
   "id": "be25b4f8-68ae-4899-95ac-106e69fa0f9f",
   "metadata": {},
   "outputs": [],
   "source": [
    "traci.close()"
   ]
  },
  {
   "cell_type": "code",
   "execution_count": 10,
   "id": "0d3907d9",
   "metadata": {},
   "outputs": [
    {
     "data": {
      "text/plain": [
       "58916456"
      ]
     },
     "execution_count": 10,
     "metadata": {},
     "output_type": "execute_result"
    }
   ],
   "source": [
    "intelligent_intersection.seed"
   ]
  },
  {
   "cell_type": "code",
   "execution_count": 5,
   "id": "8a1601ac",
   "metadata": {},
   "outputs": [
    {
     "data": {
      "text/html": [
       "<div>\n",
       "<style scoped>\n",
       "    .dataframe tbody tr th:only-of-type {\n",
       "        vertical-align: middle;\n",
       "    }\n",
       "\n",
       "    .dataframe tbody tr th {\n",
       "        vertical-align: top;\n",
       "    }\n",
       "\n",
       "    .dataframe thead th {\n",
       "        text-align: right;\n",
       "    }\n",
       "</style>\n",
       "<table border=\"1\" class=\"dataframe\">\n",
       "  <thead>\n",
       "    <tr style=\"text-align: right;\">\n",
       "      <th></th>\n",
       "      <th>step</th>\n",
       "      <th>key</th>\n",
       "      <th>route</th>\n",
       "      <th>odometry</th>\n",
       "      <th>speed</th>\n",
       "      <th>timeLoss</th>\n",
       "      <th>current_time</th>\n",
       "      <th>desired_speed</th>\n",
       "      <th>distance_to_stop_line</th>\n",
       "      <th>max_leaving_time</th>\n",
       "      <th>leaving_time</th>\n",
       "      <th>duration</th>\n",
       "    </tr>\n",
       "  </thead>\n",
       "  <tbody>\n",
       "    <tr>\n",
       "      <th>0</th>\n",
       "      <td>1</td>\n",
       "      <td>v.0.8.0</td>\n",
       "      <td>8</td>\n",
       "      <td>0.000000</td>\n",
       "      <td>5.000000</td>\n",
       "      <td>0.000000</td>\n",
       "      <td>0.02</td>\n",
       "      <td>NaN</td>\n",
       "      <td>NaN</td>\n",
       "      <td>NaN</td>\n",
       "      <td>NaN</td>\n",
       "      <td>0.0</td>\n",
       "    </tr>\n",
       "    <tr>\n",
       "      <th>1</th>\n",
       "      <td>1</td>\n",
       "      <td>v.0.11.0</td>\n",
       "      <td>11</td>\n",
       "      <td>0.000000</td>\n",
       "      <td>5.000000</td>\n",
       "      <td>0.000000</td>\n",
       "      <td>0.02</td>\n",
       "      <td>NaN</td>\n",
       "      <td>NaN</td>\n",
       "      <td>NaN</td>\n",
       "      <td>NaN</td>\n",
       "      <td>0.0</td>\n",
       "    </tr>\n",
       "    <tr>\n",
       "      <th>2</th>\n",
       "      <td>11</td>\n",
       "      <td>v.0.8.0</td>\n",
       "      <td>8</td>\n",
       "      <td>0.501652</td>\n",
       "      <td>5.040697</td>\n",
       "      <td>0.069780</td>\n",
       "      <td>0.12</td>\n",
       "      <td>NaN</td>\n",
       "      <td>NaN</td>\n",
       "      <td>NaN</td>\n",
       "      <td>NaN</td>\n",
       "      <td>0.1</td>\n",
       "    </tr>\n",
       "    <tr>\n",
       "      <th>3</th>\n",
       "      <td>11</td>\n",
       "      <td>v.0.11.0</td>\n",
       "      <td>11</td>\n",
       "      <td>0.501652</td>\n",
       "      <td>5.040697</td>\n",
       "      <td>0.069780</td>\n",
       "      <td>0.12</td>\n",
       "      <td>NaN</td>\n",
       "      <td>NaN</td>\n",
       "      <td>NaN</td>\n",
       "      <td>NaN</td>\n",
       "      <td>0.1</td>\n",
       "    </tr>\n",
       "    <tr>\n",
       "      <th>4</th>\n",
       "      <td>21</td>\n",
       "      <td>v.0.8.0</td>\n",
       "      <td>8</td>\n",
       "      <td>1.011029</td>\n",
       "      <td>5.145943</td>\n",
       "      <td>0.139095</td>\n",
       "      <td>0.22</td>\n",
       "      <td>NaN</td>\n",
       "      <td>NaN</td>\n",
       "      <td>NaN</td>\n",
       "      <td>NaN</td>\n",
       "      <td>0.2</td>\n",
       "    </tr>\n",
       "  </tbody>\n",
       "</table>\n",
       "</div>"
      ],
      "text/plain": [
       "   step       key  route  odometry     speed  timeLoss  current_time  \\\n",
       "0     1   v.0.8.0      8  0.000000  5.000000  0.000000          0.02   \n",
       "1     1  v.0.11.0     11  0.000000  5.000000  0.000000          0.02   \n",
       "2    11   v.0.8.0      8  0.501652  5.040697  0.069780          0.12   \n",
       "3    11  v.0.11.0     11  0.501652  5.040697  0.069780          0.12   \n",
       "4    21   v.0.8.0      8  1.011029  5.145943  0.139095          0.22   \n",
       "\n",
       "   desired_speed  distance_to_stop_line  max_leaving_time  leaving_time  \\\n",
       "0            NaN                    NaN               NaN           NaN   \n",
       "1            NaN                    NaN               NaN           NaN   \n",
       "2            NaN                    NaN               NaN           NaN   \n",
       "3            NaN                    NaN               NaN           NaN   \n",
       "4            NaN                    NaN               NaN           NaN   \n",
       "\n",
       "   duration  \n",
       "0       0.0  \n",
       "1       0.0  \n",
       "2       0.1  \n",
       "3       0.1  \n",
       "4       0.2  "
      ]
     },
     "execution_count": 5,
     "metadata": {},
     "output_type": "execute_result"
    }
   ],
   "source": [
    "df = intelligent_intersection.veh_data.merge_veh_data()\n",
    "df.head()"
   ]
  },
  {
   "cell_type": "code",
   "execution_count": null,
   "id": "3bc90954-53df-4443-b413-0dc24bbcb725",
   "metadata": {},
   "outputs": [],
   "source": []
  },
  {
   "cell_type": "code",
   "execution_count": 7,
   "id": "78c1a304-bfd5-4e7d-afd4-8755fe8623c3",
   "metadata": {},
   "outputs": [
    {
     "ename": "FatalTraCIError",
     "evalue": "Connection already closed.",
     "output_type": "error",
     "traceback": [
      "\u001b[0;31m---------------------------------------------------------------------------\u001b[0m",
      "\u001b[0;31mFatalTraCIError\u001b[0m                           Traceback (most recent call last)",
      "Cell \u001b[0;32mIn[7], line 1\u001b[0m\n\u001b[0;32m----> 1\u001b[0m \u001b[43mtraci\u001b[49m\u001b[38;5;241;43m.\u001b[39;49m\u001b[43mvehicle\u001b[49m\u001b[38;5;241;43m.\u001b[39;49m\u001b[43mgetLaneID\u001b[49m\u001b[43m(\u001b[49m\u001b[38;5;124;43m'\u001b[39;49m\u001b[38;5;124;43mv.0.8.0\u001b[39;49m\u001b[38;5;124;43m'\u001b[39;49m\u001b[43m)\u001b[49m\n",
      "File \u001b[0;32m/usr/local/lib/python3.8/dist-packages/traci/_vehicle.py:377\u001b[0m, in \u001b[0;36mVehicleDomain.getLaneID\u001b[0;34m(self, vehID)\u001b[0m\n\u001b[1;32m    372\u001b[0m \u001b[38;5;28;01mdef\u001b[39;00m \u001b[38;5;21mgetLaneID\u001b[39m(\u001b[38;5;28mself\u001b[39m, vehID):\n\u001b[1;32m    373\u001b[0m \u001b[38;5;250m    \u001b[39m\u001b[38;5;124;03m\"\"\"getLaneID(string) -> string\u001b[39;00m\n\u001b[1;32m    374\u001b[0m \n\u001b[1;32m    375\u001b[0m \u001b[38;5;124;03m    Returns the id of the lane the named vehicle was at within the last step.\u001b[39;00m\n\u001b[1;32m    376\u001b[0m \u001b[38;5;124;03m    \"\"\"\u001b[39;00m\n\u001b[0;32m--> 377\u001b[0m     \u001b[38;5;28;01mreturn\u001b[39;00m \u001b[38;5;28;43mself\u001b[39;49m\u001b[38;5;241;43m.\u001b[39;49m\u001b[43m_getUniversal\u001b[49m\u001b[43m(\u001b[49m\u001b[43mtc\u001b[49m\u001b[38;5;241;43m.\u001b[39;49m\u001b[43mVAR_LANE_ID\u001b[49m\u001b[43m,\u001b[49m\u001b[43m \u001b[49m\u001b[43mvehID\u001b[49m\u001b[43m)\u001b[49m\n",
      "File \u001b[0;32m/usr/local/lib/python3.8/dist-packages/traci/domain.py:147\u001b[0m, in \u001b[0;36mDomain._getUniversal\u001b[0;34m(self, varID, objectID, format, *values)\u001b[0m\n\u001b[1;32m    145\u001b[0m \u001b[38;5;28;01mif\u001b[39;00m \u001b[38;5;28mself\u001b[39m\u001b[38;5;241m.\u001b[39m_deprecatedFor:\n\u001b[1;32m    146\u001b[0m     warnings\u001b[38;5;241m.\u001b[39mwarn(\u001b[38;5;124m\"\u001b[39m\u001b[38;5;124mThe domain \u001b[39m\u001b[38;5;132;01m%s\u001b[39;00m\u001b[38;5;124m is deprecated, use \u001b[39m\u001b[38;5;132;01m%s\u001b[39;00m\u001b[38;5;124m instead.\u001b[39m\u001b[38;5;124m\"\u001b[39m \u001b[38;5;241m%\u001b[39m (\u001b[38;5;28mself\u001b[39m\u001b[38;5;241m.\u001b[39m_name, \u001b[38;5;28mself\u001b[39m\u001b[38;5;241m.\u001b[39m_deprecatedFor))\n\u001b[0;32m--> 147\u001b[0m \u001b[38;5;28;01mreturn\u001b[39;00m _parse(\u001b[38;5;28mself\u001b[39m\u001b[38;5;241m.\u001b[39m_retValFunc, varID, \u001b[38;5;28;43mself\u001b[39;49m\u001b[38;5;241;43m.\u001b[39;49m\u001b[43m_getCmd\u001b[49m\u001b[43m(\u001b[49m\u001b[43mvarID\u001b[49m\u001b[43m,\u001b[49m\u001b[43m \u001b[49m\u001b[43mobjectID\u001b[49m\u001b[43m,\u001b[49m\u001b[43m \u001b[49m\u001b[38;5;28;43mformat\u001b[39;49m\u001b[43m,\u001b[49m\u001b[43m \u001b[49m\u001b[38;5;241;43m*\u001b[39;49m\u001b[43mvalues\u001b[49m\u001b[43m)\u001b[49m)\n",
      "File \u001b[0;32m/usr/local/lib/python3.8/dist-packages/traci/domain.py:152\u001b[0m, in \u001b[0;36mDomain._getCmd\u001b[0;34m(self, varID, objID, format, *values)\u001b[0m\n\u001b[1;32m    150\u001b[0m \u001b[38;5;28;01mif\u001b[39;00m \u001b[38;5;28mself\u001b[39m\u001b[38;5;241m.\u001b[39m_connection \u001b[38;5;129;01mis\u001b[39;00m \u001b[38;5;28;01mNone\u001b[39;00m:\n\u001b[1;32m    151\u001b[0m     \u001b[38;5;28;01mraise\u001b[39;00m FatalTraCIError(\u001b[38;5;124m\"\u001b[39m\u001b[38;5;124mNot connected.\u001b[39m\u001b[38;5;124m\"\u001b[39m)\n\u001b[0;32m--> 152\u001b[0m r \u001b[38;5;241m=\u001b[39m \u001b[38;5;28;43mself\u001b[39;49m\u001b[38;5;241;43m.\u001b[39;49m\u001b[43m_connection\u001b[49m\u001b[38;5;241;43m.\u001b[39;49m\u001b[43m_sendCmd\u001b[49m\u001b[43m(\u001b[49m\u001b[38;5;28;43mself\u001b[39;49m\u001b[38;5;241;43m.\u001b[39;49m\u001b[43m_cmdGetID\u001b[49m\u001b[43m,\u001b[49m\u001b[43m \u001b[49m\u001b[43mvarID\u001b[49m\u001b[43m,\u001b[49m\u001b[43m \u001b[49m\u001b[43mobjID\u001b[49m\u001b[43m,\u001b[49m\u001b[43m \u001b[49m\u001b[38;5;28;43mformat\u001b[39;49m\u001b[43m,\u001b[49m\u001b[43m \u001b[49m\u001b[38;5;241;43m*\u001b[39;49m\u001b[43mvalues\u001b[49m\u001b[43m)\u001b[49m\n\u001b[1;32m    153\u001b[0m r\u001b[38;5;241m.\u001b[39mreadLength()\n\u001b[1;32m    154\u001b[0m response, retVarID \u001b[38;5;241m=\u001b[39m r\u001b[38;5;241m.\u001b[39mread(\u001b[38;5;124m\"\u001b[39m\u001b[38;5;124m!BB\u001b[39m\u001b[38;5;124m\"\u001b[39m)\n",
      "File \u001b[0;32m/usr/local/lib/python3.8/dist-packages/traci/connection.py:231\u001b[0m, in \u001b[0;36mConnection._sendCmd\u001b[0;34m(self, cmdID, varID, objID, format, *values)\u001b[0m\n\u001b[1;32m    229\u001b[0m     \u001b[38;5;28mself\u001b[39m\u001b[38;5;241m.\u001b[39m_string \u001b[38;5;241m+\u001b[39m\u001b[38;5;241m=\u001b[39m struct\u001b[38;5;241m.\u001b[39mpack(\u001b[38;5;124m\"\u001b[39m\u001b[38;5;124m!i\u001b[39m\u001b[38;5;124m\"\u001b[39m, \u001b[38;5;28mlen\u001b[39m(objID)) \u001b[38;5;241m+\u001b[39m objID\n\u001b[1;32m    230\u001b[0m \u001b[38;5;28mself\u001b[39m\u001b[38;5;241m.\u001b[39m_string \u001b[38;5;241m+\u001b[39m\u001b[38;5;241m=\u001b[39m packed\n\u001b[0;32m--> 231\u001b[0m \u001b[38;5;28;01mreturn\u001b[39;00m \u001b[38;5;28;43mself\u001b[39;49m\u001b[38;5;241;43m.\u001b[39;49m\u001b[43m_sendExact\u001b[49m\u001b[43m(\u001b[49m\u001b[43m)\u001b[49m\n",
      "File \u001b[0;32m/usr/local/lib/python3.8/dist-packages/traci/connection.py:126\u001b[0m, in \u001b[0;36mConnection._sendExact\u001b[0;34m(self)\u001b[0m\n\u001b[1;32m    124\u001b[0m \u001b[38;5;28;01mdef\u001b[39;00m \u001b[38;5;21m_sendExact\u001b[39m(\u001b[38;5;28mself\u001b[39m):\n\u001b[1;32m    125\u001b[0m     \u001b[38;5;28;01mif\u001b[39;00m \u001b[38;5;28mself\u001b[39m\u001b[38;5;241m.\u001b[39m_socket \u001b[38;5;129;01mis\u001b[39;00m \u001b[38;5;28;01mNone\u001b[39;00m:\n\u001b[0;32m--> 126\u001b[0m         \u001b[38;5;28;01mraise\u001b[39;00m FatalTraCIError(\u001b[38;5;124m\"\u001b[39m\u001b[38;5;124mConnection already closed.\u001b[39m\u001b[38;5;124m\"\u001b[39m)\n\u001b[1;32m    127\u001b[0m     length \u001b[38;5;241m=\u001b[39m struct\u001b[38;5;241m.\u001b[39mpack(\u001b[38;5;124m\"\u001b[39m\u001b[38;5;124m!i\u001b[39m\u001b[38;5;124m\"\u001b[39m, \u001b[38;5;28mlen\u001b[39m(\u001b[38;5;28mself\u001b[39m\u001b[38;5;241m.\u001b[39m_string) \u001b[38;5;241m+\u001b[39m \u001b[38;5;241m4\u001b[39m)\n\u001b[1;32m    128\u001b[0m     \u001b[38;5;28;01mif\u001b[39;00m _DEBUG:\n",
      "\u001b[0;31mFatalTraCIError\u001b[0m: Connection already closed."
     ]
    }
   ],
   "source": []
  },
  {
   "cell_type": "code",
   "execution_count": null,
   "id": "bf8862b7-6638-4ac2-84b5-ae3988397d91",
   "metadata": {},
   "outputs": [],
   "source": []
  },
  {
   "cell_type": "code",
   "execution_count": null,
   "id": "701d3d6a",
   "metadata": {},
   "outputs": [],
   "source": [
    "# Coleta de todos os veículos que ja ultrapassaram o semáforo\n",
    "lista_veiculos_apos_semaforo = list(set(df.groupby(['key'])['key'].count().index) - set(intelligent_intersection.topology.keys()))\n",
    "\n",
    "to_plot = df.query(\"key in \"+str(lista_veiculos_apos_semaforo))"
   ]
  },
  {
   "cell_type": "code",
   "execution_count": null,
   "id": "73331d6b",
   "metadata": {},
   "outputs": [],
   "source": [
    "duration = to_plot.groupby(['key'])[['duration']].last()\n",
    "print(\"DURATION \\t MAX {} \\t-\\tMIN {}\".format(duration.max().values,duration.min().values))\n",
    "ax = to_plot.groupby(['key'])[['duration']].last().boxplot()\n",
    "plt.show()"
   ]
  },
  {
   "cell_type": "code",
   "execution_count": null,
   "id": "817a98c2",
   "metadata": {},
   "outputs": [],
   "source": [
    "ax = to_plot[['key','speed']].plot(x='speed', y='key',kind='scatter')\n",
    "plt.show()"
   ]
  },
  {
   "cell_type": "code",
   "execution_count": null,
   "id": "08bbcaec",
   "metadata": {},
   "outputs": [],
   "source": [
    "print(\"Exemplo das variáveis:\\\n",
    "       \\n\\nserving_list =>[veh, route, leaving_time, priority]:\\n{}\\\n",
    "       \\n\\nserving_list_veh_only:\\n{}\\\n",
    "       \\n\\ntopology:\\n{}\\\n",
    "       \\n\\nTotal de Passos:{}\\\n",
    "       \".format(intelligent_intersection.serving_list[0],\n",
    "               intelligent_intersection.serving_list_veh_only[0],\n",
    "               intelligent_intersection.topology.popitem(),\n",
    "               intelligent_intersection.step))"
   ]
  },
  {
   "cell_type": "code",
   "execution_count": null,
   "id": "61655be6",
   "metadata": {},
   "outputs": [],
   "source": [
    "df.key.head()"
   ]
  },
  {
   "cell_type": "code",
   "execution_count": null,
   "id": "d91987e8",
   "metadata": {},
   "outputs": [],
   "source": [
    "executionTime()"
   ]
  }
 ],
 "metadata": {
  "kernelspec": {
   "display_name": "Python 3 (ipykernel)",
   "language": "python",
   "name": "python3"
  },
  "language_info": {
   "codemirror_mode": {
    "name": "ipython",
    "version": 3
   },
   "file_extension": ".py",
   "mimetype": "text/x-python",
   "name": "python",
   "nbconvert_exporter": "python",
   "pygments_lexer": "ipython3",
   "version": "3.8.10"
  }
 },
 "nbformat": 4,
 "nbformat_minor": 5
}
