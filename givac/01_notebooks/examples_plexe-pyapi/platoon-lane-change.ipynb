{
 "cells": [
  {
   "cell_type": "code",
   "execution_count": 1,
   "id": "253943a4",
   "metadata": {},
   "outputs": [],
   "source": [
    "#!/usr/bin/env python\n",
    "import os\n",
    "import sys\n",
    "import random\n",
    "\n",
    "if 'SUMO_HOME' in os.environ:\n",
    "    tools = os.path.join(os.environ['SUMO_HOME'], 'tools')\n",
    "    sys.path.append(tools)\n",
    "else:\n",
    "    sys.exit(\"please declare environment variable 'SUMO_HOME'\")\n",
    "import traci\n",
    "from traci import constants as tc\n",
    "from plexe import Plexe, ACC, CACC, GEAR, RPM\n",
    "from utils import start_sumo, running, add_platooning_vehicle, add_vehicle"
   ]
  },
  {
   "cell_type": "code",
   "execution_count": 2,
   "id": "036fb365",
   "metadata": {},
   "outputs": [],
   "source": [
    "# vehicle length\n",
    "LENGTH = 4\n",
    "# inter-vehicle distance\n",
    "DISTANCE = 5\n",
    "# cruising speed\n",
    "SPEED = 25"
   ]
  },
  {
   "cell_type": "code",
   "execution_count": 3,
   "id": "29f9250d",
   "metadata": {},
   "outputs": [],
   "source": [
    "LEADER = \"p.0\"\n",
    "N_VEHICLES = 8\n",
    "\n",
    "def add_vehicles(plexe, n, position, real_engine=False):\n",
    "    \"\"\"\n",
    "    Adds a platoon of n vehicles to the simulation, plus an additional one\n",
    "    farther away that wants to join the platoon\n",
    "    :param plexe: API instance\n",
    "    :param n: number of vehicles of the platoon\n",
    "    :param position: position of the leader\n",
    "    :param real_engine: set to true to use the realistic engine model,\n",
    "    false to use a first order lag model\n",
    "    \"\"\"\n",
    "    # add a platoon of n vehicles\n",
    "    for i in range(n):\n",
    "        vid = \"p.%d\" % i\n",
    "        add_platooning_vehicle(plexe, vid, position - i * (DISTANCE + LENGTH),\n",
    "                               0, SPEED, DISTANCE, real_engine)\n",
    "        plexe.set_fixed_lane(vid, 0, safe=False)\n",
    "        traci.vehicle.setSpeedMode(vid, 0)\n",
    "        if i == 0:\n",
    "            plexe.set_active_controller(vid, ACC)\n",
    "            plexe.enable_auto_lane_changing(LEADER, True)\n",
    "        else:\n",
    "            plexe.set_active_controller(vid, CACC)\n",
    "            plexe.enable_auto_feed(vid, True, LEADER, \"p.%d\" % (i-1))\n",
    "            plexe.add_member(LEADER, vid, i)"
   ]
  },
  {
   "cell_type": "code",
   "execution_count": 4,
   "id": "a09498fa",
   "metadata": {},
   "outputs": [
    {
     "name": "stdout",
     "output_type": "stream",
     "text": [
      " Retrying in 1 seconds\n"
     ]
    }
   ],
   "source": [
    "def main(demo_mode, real_engine, setter=None):\n",
    "    # used to randomly color the vehicles\n",
    "    random.seed(1)\n",
    "    start_sumo(\"cfg/freeway.sumo.cfg\", False)\n",
    "    plexe = Plexe()\n",
    "    traci.addStepListener(plexe)\n",
    "    step = 0\n",
    "    while running(demo_mode, step, 6000):\n",
    "\n",
    "        # when reaching 60 seconds, reset the simulation when in demo_mode\n",
    "        if demo_mode and step == 6000:\n",
    "            start_sumo(\"cfg/freeway.sumo.cfg\", True)\n",
    "            step = 0\n",
    "            random.seed(1)\n",
    "\n",
    "        traci.simulationStep()\n",
    "\n",
    "        if step == 1:\n",
    "            add_vehicles(plexe, N_VEHICLES, 150, real_engine)\n",
    "            add_vehicle(plexe, \"v0\", 140, 1, 25, \"passenger\")\n",
    "            add_vehicle(plexe, \"v1\", 250, 0, 20, \"passenger2\")\n",
    "            traci.gui.trackVehicle(\"View #0\", LEADER)\n",
    "            traci.gui.setZoom(\"View #0\", 50000)\n",
    "\n",
    "        if real_engine and setter is not None:\n",
    "            # if we are running with the dashboard, update its values\n",
    "            tracked_id = traci.gui.getTrackedVehicle(\"View #0\")\n",
    "            if tracked_id != \"\":\n",
    "                ed = plexe.get_engine_data(tracked_id)\n",
    "                vd = plexe.get_vehicle_data(tracked_id)\n",
    "                setter(ed[RPM], ed[GEAR], vd.speed, vd.acceleration)\n",
    "\n",
    "        step += 1\n",
    "\n",
    "    traci.close()\n",
    "\n",
    "\n",
    "if __name__ == \"__main__\":\n",
    "    main(False, False)"
   ]
  },
  {
   "cell_type": "code",
   "execution_count": null,
   "id": "7752f55f",
   "metadata": {},
   "outputs": [],
   "source": []
  }
 ],
 "metadata": {
  "kernelspec": {
   "display_name": "Python 3 (ipykernel)",
   "language": "python",
   "name": "python3"
  },
  "language_info": {
   "codemirror_mode": {
    "name": "ipython",
    "version": 3
   },
   "file_extension": ".py",
   "mimetype": "text/x-python",
   "name": "python",
   "nbconvert_exporter": "python",
   "pygments_lexer": "ipython3",
   "version": "3.8.10"
  }
 },
 "nbformat": 4,
 "nbformat_minor": 5
}
